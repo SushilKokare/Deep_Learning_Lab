{
  "nbformat": 4,
  "nbformat_minor": 0,
  "metadata": {
    "colab": {
      "provenance": [],
      "authorship_tag": "ABX9TyNNAkgsuHso0ntyruMH9Dmh",
      "include_colab_link": true
    },
    "kernelspec": {
      "name": "python3",
      "display_name": "Python 3"
    },
    "language_info": {
      "name": "python"
    }
  },
  "cells": [
    {
      "cell_type": "markdown",
      "metadata": {
        "id": "view-in-github",
        "colab_type": "text"
      },
      "source": [
        "<a href=\"https://colab.research.google.com/github/SushilKokare/Deep_Learning_Lab/blob/main/6_Linear_Regression.ipynb\" target=\"_parent\"><img src=\"https://colab.research.google.com/assets/colab-badge.svg\" alt=\"Open In Colab\"/></a>"
      ]
    },
    {
      "cell_type": "code",
      "execution_count": 1,
      "metadata": {
        "id": "kgaTqw648kwO"
      },
      "outputs": [],
      "source": [
        "import numpy as np\n",
        "import matplotlib.pyplot as plt\n",
        "import tensorflow as tf"
      ]
    },
    {
      "cell_type": "code",
      "source": [
        "observation = 1000\n",
        "xs = np.random.uniform(-10,10,(observation,1))\n",
        "zs = np.random.uniform(-10,10,(observation,1))"
      ],
      "metadata": {
        "id": "_X5vz25a82gP"
      },
      "execution_count": 7,
      "outputs": []
    },
    {
      "cell_type": "code",
      "source": [
        "# len(xs)"
      ],
      "metadata": {
        "id": "oByCpuur9QFM"
      },
      "execution_count": 67,
      "outputs": []
    },
    {
      "cell_type": "code",
      "source": [
        "# len(zs)"
      ],
      "metadata": {
        "id": "lNN6nbVW9Tgj"
      },
      "execution_count": 68,
      "outputs": []
    },
    {
      "cell_type": "code",
      "source": [
        "# print(xs[0])"
      ],
      "metadata": {
        "id": "gL4U3lu59UnL"
      },
      "execution_count": 69,
      "outputs": []
    },
    {
      "cell_type": "code",
      "source": [
        "generated_inputs = np.column_stack((xs,zs))"
      ],
      "metadata": {
        "id": "zxF1cKl29VcS"
      },
      "execution_count": 47,
      "outputs": []
    },
    {
      "cell_type": "code",
      "source": [
        "# import pandas as pd"
      ],
      "metadata": {
        "id": "oS6G17hD9_8X"
      },
      "execution_count": 70,
      "outputs": []
    },
    {
      "cell_type": "code",
      "source": [
        "# pd.DataFrame(generated_inputs).tail(2)"
      ],
      "metadata": {
        "id": "5moVZRdh-Iak"
      },
      "execution_count": 71,
      "outputs": []
    },
    {
      "cell_type": "code",
      "source": [
        "noise = np.random.uniform(-10,10,(observation,1))"
      ],
      "metadata": {
        "id": "YiXE51HQ-KaE"
      },
      "execution_count": 72,
      "outputs": []
    },
    {
      "cell_type": "code",
      "source": [
        "generated_target = 2*xs-3*zs+5+noise"
      ],
      "metadata": {
        "id": "n7PaydeK-2Jp"
      },
      "execution_count": 73,
      "outputs": []
    },
    {
      "cell_type": "code",
      "source": [
        "# pd.DataFrame(generated_target).tail(2)"
      ],
      "metadata": {
        "id": "dfhTZe2q-9Uq"
      },
      "execution_count": 74,
      "outputs": []
    },
    {
      "cell_type": "code",
      "source": [
        "np.savez('TF_intro',input = generated_inputs,target=generated_target)"
      ],
      "metadata": {
        "id": "d-8GsWqf_BIH"
      },
      "execution_count": 23,
      "outputs": []
    },
    {
      "cell_type": "code",
      "source": [
        "training_data = np.load('TF_intro.npz')"
      ],
      "metadata": {
        "id": "wV3q3o87_gJN"
      },
      "execution_count": 24,
      "outputs": []
    },
    {
      "cell_type": "code",
      "source": [
        "# type(training_data)"
      ],
      "metadata": {
        "id": "RHgr67XQ_l49"
      },
      "execution_count": 75,
      "outputs": []
    },
    {
      "cell_type": "code",
      "source": [
        "# len(training_data['input'])"
      ],
      "metadata": {
        "id": "e3MB8gzuBmK7"
      },
      "execution_count": 76,
      "outputs": []
    },
    {
      "cell_type": "code",
      "source": [
        "# len(training_data['target'])"
      ],
      "metadata": {
        "id": "x3BX_vY3BsSK"
      },
      "execution_count": 77,
      "outputs": []
    },
    {
      "cell_type": "code",
      "source": [
        "# pd.DataFrame(training_data['input']).head(2)"
      ],
      "metadata": {
        "id": "77pgtGXQ_oIk"
      },
      "execution_count": 78,
      "outputs": []
    },
    {
      "cell_type": "code",
      "source": [
        "# pd.DataFrame(training_data['target']).head(2)"
      ],
      "metadata": {
        "id": "xkU8ttq3B2Df"
      },
      "execution_count": 79,
      "outputs": []
    },
    {
      "cell_type": "code",
      "source": [
        "input_size = 2\n",
        "output_size = 1"
      ],
      "metadata": {
        "id": "LEAYi1th_rB0"
      },
      "execution_count": 57,
      "outputs": []
    },
    {
      "cell_type": "code",
      "source": [
        "from keras.layers import Dense\n",
        "from keras.optimizers import SGD"
      ],
      "metadata": {
        "id": "yXabnq-UAEs9"
      },
      "execution_count": 58,
      "outputs": []
    },
    {
      "cell_type": "code",
      "source": [
        "model = tf.keras.Sequential([Dense(output_size)])"
      ],
      "metadata": {
        "id": "fEDoO0j4__fc"
      },
      "execution_count": 59,
      "outputs": []
    },
    {
      "cell_type": "code",
      "source": [
        "custom_optimizer = SGD(learning_rate = 0.02)"
      ],
      "metadata": {
        "id": "a86wLsSuAUth"
      },
      "execution_count": 60,
      "outputs": []
    },
    {
      "cell_type": "code",
      "source": [
        "model.compile(optimizer = custom_optimizer, loss='mean_squared_error')"
      ],
      "metadata": {
        "id": "wX45Gu4mAa1G"
      },
      "execution_count": 80,
      "outputs": []
    },
    {
      "cell_type": "code",
      "source": [
        "model.fit(training_data['input'],training_data['target'],epochs=100,verbose=0)"
      ],
      "metadata": {
        "colab": {
          "base_uri": "https://localhost:8080/"
        },
        "id": "icQ9CJb1AjMt",
        "outputId": "0eaa523c-a2e4-4bf3-ef5c-0af72cc6a4b2"
      },
      "execution_count": 81,
      "outputs": [
        {
          "output_type": "execute_result",
          "data": {
            "text/plain": [
              "<keras.callbacks.History at 0x7f045e7e02b0>"
            ]
          },
          "metadata": {},
          "execution_count": 81
        }
      ]
    },
    {
      "cell_type": "code",
      "source": [
        "model.layers[0].get_weights()"
      ],
      "metadata": {
        "colab": {
          "base_uri": "https://localhost:8080/"
        },
        "id": "DkUMKEoCAq_Z",
        "outputId": "b94f33d3-7a51-4f76-d082-08bb19ac3c57"
      },
      "execution_count": 83,
      "outputs": [
        {
          "output_type": "execute_result",
          "data": {
            "text/plain": [
              "[array([[ 2.309415],\n",
              "        [-3.215996]], dtype=float32), array([5.393313], dtype=float32)]"
            ]
          },
          "metadata": {},
          "execution_count": 83
        }
      ]
    },
    {
      "cell_type": "code",
      "source": [
        "plt.scatter(np.squeeze(model.predict_on_batch(training_data['input'])),\n",
        "            np.squeeze(training_data['target']),\n",
        "            c='#88e999')\n",
        "plt.xlabel('Input')\n",
        "plt.ylabel('Predicted Output')\n",
        "plt.show()"
      ],
      "metadata": {
        "colab": {
          "base_uri": "https://localhost:8080/",
          "height": 280
        },
        "id": "rGW0wNVOCTln",
        "outputId": "b4a2e5d5-3f3b-46ea-afd8-19d643ac9035"
      },
      "execution_count": 89,
      "outputs": [
        {
          "output_type": "display_data",
          "data": {
            "text/plain": [
              "<Figure size 432x288 with 1 Axes>"
            ],
            "image/png": "[encoded data removed]"
          },
          "metadata": {
            "needs_background": "light"
          }
        }
      ]
    },
    {
      "cell_type": "code",
      "source": [],
      "metadata": {
        "id": "5vHOiyPoDnyk"
      },
      "execution_count": null,
      "outputs": []
    }
  ]
}