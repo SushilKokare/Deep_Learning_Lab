{
  "nbformat": 4,
  "nbformat_minor": 0,
  "metadata": {
    "colab": {
      "provenance": [],
      "authorship_tag": "ABX9TyP5+okE0obWnYmWvMDbe8GE",
      "include_colab_link": true
    },
    "kernelspec": {
      "name": "python3",
      "display_name": "Python 3"
    },
    "language_info": {
      "name": "python"
    }
  },
  "cells": [
    {
      "cell_type": "markdown",
      "metadata": {
        "id": "view-in-github",
        "colab_type": "text"
      },
      "source": [
        "<a href=\"https://colab.research.google.com/github/SushilKokare/Deep_Learning_Lab/blob/main/3_logistic_regression.ipynb\" target=\"_parent\"><img src=\"https://colab.research.google.com/assets/colab-badge.svg\" alt=\"Open In Colab\"/></a>"
      ]
    },
    {
      "cell_type": "code",
      "execution_count": 1,
      "metadata": {
        "id": "EuUb1M0rE96a"
      },
      "outputs": [],
      "source": [
        "import numpy as np\n",
        "from keras.utils import np_utils\n",
        "from keras.models import Sequential\n",
        "from keras.layers import Dense,Activation\n",
        "from keras.datasets import mnist"
      ]
    },
    {
      "cell_type": "code",
      "source": [
        "def build_logistic_model(input_dim,ouput_dim):\n",
        "  model = Sequential()\n",
        "  model.add(Dense(ouput_dim,input_dim=input_dim,activation='softmax'))\n",
        "  return model"
      ],
      "metadata": {
        "id": "qEyTg5zbFOWQ"
      },
      "execution_count": 48,
      "outputs": []
    },
    {
      "cell_type": "code",
      "source": [
        "batch_size = 128\n",
        "nb_classes = 10\n",
        "nb_epochs = 20\n",
        "input_dim = 784"
      ],
      "metadata": {
        "id": "Lkn6wdOXFrxb"
      },
      "execution_count": 53,
      "outputs": []
    },
    {
      "cell_type": "code",
      "source": [
        "(x_train,y_train),(x_test,y_test) = mnist.load_data()"
      ],
      "metadata": {
        "id": "kOfMm0fJF_2E"
      },
      "execution_count": 13,
      "outputs": []
    },
    {
      "cell_type": "code",
      "source": [
        "# def PrintShape()\n",
        "def ps(x):\n",
        "  print(x.shape)"
      ],
      "metadata": {
        "id": "6qbTCjKbGFaR"
      },
      "execution_count": 14,
      "outputs": []
    },
    {
      "cell_type": "code",
      "source": [
        "ps(x_train)\n",
        "ps(y_train)\n",
        "ps(x_test)\n",
        "ps(y_test)"
      ],
      "metadata": {
        "colab": {
          "base_uri": "https://localhost:8080/"
        },
        "id": "5_hyPoqZGRuq",
        "outputId": "1d3aac74-5fa7-41c7-c04f-4fe7f76f91c2"
      },
      "execution_count": 15,
      "outputs": [
        {
          "output_type": "stream",
          "name": "stdout",
          "text": [
            "(60000, 28, 28)\n",
            "(60000,)\n",
            "(10000, 28, 28)\n",
            "(10000,)\n"
          ]
        }
      ]
    },
    {
      "cell_type": "code",
      "source": [
        "x_train = x_train.reshape(60000,input_dim)\n",
        "x_test = x_test.reshape(10000,input_dim)"
      ],
      "metadata": {
        "id": "2BmZ9oooGd3K"
      },
      "execution_count": 16,
      "outputs": []
    },
    {
      "cell_type": "code",
      "source": [
        "ps(x_train)\n",
        "ps(y_train)\n",
        "ps(x_test)\n",
        "ps(y_test)"
      ],
      "metadata": {
        "colab": {
          "base_uri": "https://localhost:8080/"
        },
        "id": "lhAMB_BqGpQK",
        "outputId": "963d42d5-3500-477e-f238-b2576330e538"
      },
      "execution_count": 17,
      "outputs": [
        {
          "output_type": "stream",
          "name": "stdout",
          "text": [
            "(60000, 784)\n",
            "(60000,)\n",
            "(10000, 784)\n",
            "(10000,)\n"
          ]
        }
      ]
    },
    {
      "cell_type": "code",
      "source": [
        "print(x_train.dtype)\n",
        "print(x_test.dtype)\n"
      ],
      "metadata": {
        "colab": {
          "base_uri": "https://localhost:8080/"
        },
        "id": "raN86WnaHdTQ",
        "outputId": "b00cd028-eb60-4a53-f7ac-96ba19beaaaa"
      },
      "execution_count": 19,
      "outputs": [
        {
          "output_type": "stream",
          "name": "stdout",
          "text": [
            "uint8\n",
            "uint8\n"
          ]
        }
      ]
    },
    {
      "cell_type": "code",
      "source": [
        "x_train = x_train.astype('float32')\n",
        "x_test = x_test.astype('float32')"
      ],
      "metadata": {
        "id": "tyixpmeNGrYS"
      },
      "execution_count": 21,
      "outputs": []
    },
    {
      "cell_type": "code",
      "source": [
        "print(x_train.dtype)\n",
        "print(x_test.dtype)"
      ],
      "metadata": {
        "colab": {
          "base_uri": "https://localhost:8080/"
        },
        "id": "dlH4GOifG98x",
        "outputId": "f599f49e-1e36-4dd3-c1c0-5565b5ad2a0f"
      },
      "execution_count": 22,
      "outputs": [
        {
          "output_type": "stream",
          "name": "stdout",
          "text": [
            "float32\n",
            "float32\n"
          ]
        }
      ]
    },
    {
      "cell_type": "code",
      "source": [
        "x_train[1]"
      ],
      "metadata": {
        "colab": {
          "base_uri": "https://localhost:8080/"
        },
        "id": "S-wx4gggHAoR",
        "outputId": "cb88a882-507f-47bf-cf9a-a1a3886251fd"
      },
      "execution_count": 23,
      "outputs": [
        {
          "output_type": "execute_result",
          "data": {
            "text/plain": [
              "array([  0.,   0.,   0.,   0.,   0.,   0.,   0.,   0.,   0.,   0.,   0.,\n",
              "         0.,   0.,   0.,   0.,   0.,   0.,   0.,   0.,   0.,   0.,   0.,\n",
              "         0.,   0.,   0.,   0.,   0.,   0.,   0.,   0.,   0.,   0.,   0.,\n",
              "         0.,   0.,   0.,   0.,   0.,   0.,   0.,   0.,   0.,   0.,   0.,\n",
              "         0.,   0.,   0.,   0.,   0.,   0.,   0.,   0.,   0.,   0.,   0.,\n",
              "         0.,   0.,   0.,   0.,   0.,   0.,   0.,   0.,   0.,   0.,   0.,\n",
              "         0.,   0.,   0.,   0.,   0.,   0.,   0.,   0.,   0.,   0.,   0.,\n",
              "         0.,   0.,   0.,   0.,   0.,   0.,   0.,   0.,   0.,   0.,   0.,\n",
              "         0.,   0.,   0.,   0.,   0.,   0.,   0.,   0.,   0.,   0.,   0.,\n",
              "         0.,   0.,   0.,   0.,   0.,   0.,   0.,   0.,   0.,   0.,   0.,\n",
              "         0.,   0.,   0.,   0.,   0.,   0.,   0.,   0.,   0.,   0.,   0.,\n",
              "         0.,   0.,   0.,   0.,   0.,   0.,  51., 159., 253., 159.,  50.,\n",
              "         0.,   0.,   0.,   0.,   0.,   0.,   0.,   0.,   0.,   0.,   0.,\n",
              "         0.,   0.,   0.,   0.,   0.,   0.,   0.,   0.,   0.,   0.,   0.,\n",
              "        48., 238., 252., 252., 252., 237.,   0.,   0.,   0.,   0.,   0.,\n",
              "         0.,   0.,   0.,   0.,   0.,   0.,   0.,   0.,   0.,   0.,   0.,\n",
              "         0.,   0.,   0.,   0.,   0.,  54., 227., 253., 252., 239., 233.,\n",
              "       252.,  57.,   6.,   0.,   0.,   0.,   0.,   0.,   0.,   0.,   0.,\n",
              "         0.,   0.,   0.,   0.,   0.,   0.,   0.,   0.,   0.,  10.,  60.,\n",
              "       224., 252., 253., 252., 202.,  84., 252., 253., 122.,   0.,   0.,\n",
              "         0.,   0.,   0.,   0.,   0.,   0.,   0.,   0.,   0.,   0.,   0.,\n",
              "         0.,   0.,   0.,   0., 163., 252., 252., 252., 253., 252., 252.,\n",
              "        96., 189., 253., 167.,   0.,   0.,   0.,   0.,   0.,   0.,   0.,\n",
              "         0.,   0.,   0.,   0.,   0.,   0.,   0.,   0.,   0.,  51., 238.,\n",
              "       253., 253., 190., 114., 253., 228.,  47.,  79., 255., 168.,   0.,\n",
              "         0.,   0.,   0.,   0.,   0.,   0.,   0.,   0.,   0.,   0.,   0.,\n",
              "         0.,   0.,   0.,  48., 238., 252., 252., 179.,  12.,  75., 121.,\n",
              "        21.,   0.,   0., 253., 243.,  50.,   0.,   0.,   0.,   0.,   0.,\n",
              "         0.,   0.,   0.,   0.,   0.,   0.,   0.,   0.,  38., 165., 253.,\n",
              "       233., 208.,  84.,   0.,   0.,   0.,   0.,   0.,   0., 253., 252.,\n",
              "       165.,   0.,   0.,   0.,   0.,   0.,   0.,   0.,   0.,   0.,   0.,\n",
              "         0.,   0.,   7., 178., 252., 240.,  71.,  19.,  28.,   0.,   0.,\n",
              "         0.,   0.,   0.,   0., 253., 252., 195.,   0.,   0.,   0.,   0.,\n",
              "         0.,   0.,   0.,   0.,   0.,   0.,   0.,   0.,  57., 252., 252.,\n",
              "        63.,   0.,   0.,   0.,   0.,   0.,   0.,   0.,   0.,   0., 253.,\n",
              "       252., 195.,   0.,   0.,   0.,   0.,   0.,   0.,   0.,   0.,   0.,\n",
              "         0.,   0.,   0., 198., 253., 190.,   0.,   0.,   0.,   0.,   0.,\n",
              "         0.,   0.,   0.,   0.,   0., 255., 253., 196.,   0.,   0.,   0.,\n",
              "         0.,   0.,   0.,   0.,   0.,   0.,   0.,   0.,  76., 246., 252.,\n",
              "       112.,   0.,   0.,   0.,   0.,   0.,   0.,   0.,   0.,   0.,   0.,\n",
              "       253., 252., 148.,   0.,   0.,   0.,   0.,   0.,   0.,   0.,   0.,\n",
              "         0.,   0.,   0.,  85., 252., 230.,  25.,   0.,   0.,   0.,   0.,\n",
              "         0.,   0.,   0.,   0.,   7., 135., 253., 186.,  12.,   0.,   0.,\n",
              "         0.,   0.,   0.,   0.,   0.,   0.,   0.,   0.,   0.,  85., 252.,\n",
              "       223.,   0.,   0.,   0.,   0.,   0.,   0.,   0.,   0.,   7., 131.,\n",
              "       252., 225.,  71.,   0.,   0.,   0.,   0.,   0.,   0.,   0.,   0.,\n",
              "         0.,   0.,   0.,   0.,  85., 252., 145.,   0.,   0.,   0.,   0.,\n",
              "         0.,   0.,   0.,  48., 165., 252., 173.,   0.,   0.,   0.,   0.,\n",
              "         0.,   0.,   0.,   0.,   0.,   0.,   0.,   0.,   0.,   0.,  86.,\n",
              "       253., 225.,   0.,   0.,   0.,   0.,   0.,   0., 114., 238., 253.,\n",
              "       162.,   0.,   0.,   0.,   0.,   0.,   0.,   0.,   0.,   0.,   0.,\n",
              "         0.,   0.,   0.,   0.,   0.,  85., 252., 249., 146.,  48.,  29.,\n",
              "        85., 178., 225., 253., 223., 167.,  56.,   0.,   0.,   0.,   0.,\n",
              "         0.,   0.,   0.,   0.,   0.,   0.,   0.,   0.,   0.,   0.,   0.,\n",
              "        85., 252., 252., 252., 229., 215., 252., 252., 252., 196., 130.,\n",
              "         0.,   0.,   0.,   0.,   0.,   0.,   0.,   0.,   0.,   0.,   0.,\n",
              "         0.,   0.,   0.,   0.,   0.,   0.,  28., 199., 252., 252., 253.,\n",
              "       252., 252., 233., 145.,   0.,   0.,   0.,   0.,   0.,   0.,   0.,\n",
              "         0.,   0.,   0.,   0.,   0.,   0.,   0.,   0.,   0.,   0.,   0.,\n",
              "         0.,   0.,  25., 128., 252., 253., 252., 141.,  37.,   0.,   0.,\n",
              "         0.,   0.,   0.,   0.,   0.,   0.,   0.,   0.,   0.,   0.,   0.,\n",
              "         0.,   0.,   0.,   0.,   0.,   0.,   0.,   0.,   0.,   0.,   0.,\n",
              "         0.,   0.,   0.,   0.,   0.,   0.,   0.,   0.,   0.,   0.,   0.,\n",
              "         0.,   0.,   0.,   0.,   0.,   0.,   0.,   0.,   0.,   0.,   0.,\n",
              "         0.,   0.,   0.,   0.,   0.,   0.,   0.,   0.,   0.,   0.,   0.,\n",
              "         0.,   0.,   0.,   0.,   0.,   0.,   0.,   0.,   0.,   0.,   0.,\n",
              "         0.,   0.,   0.,   0.,   0.,   0.,   0.,   0.,   0.,   0.,   0.,\n",
              "         0.,   0.,   0.,   0.,   0.,   0.,   0.,   0.,   0.,   0.,   0.,\n",
              "         0.,   0.,   0.,   0.,   0.,   0.,   0.,   0.,   0.,   0.,   0.,\n",
              "         0.,   0.,   0.,   0.,   0.,   0.,   0.,   0.,   0.,   0.,   0.,\n",
              "         0.,   0.,   0.,   0.,   0.,   0.,   0.,   0.,   0.,   0.,   0.,\n",
              "         0.,   0.,   0.], dtype=float32)"
            ]
          },
          "metadata": {},
          "execution_count": 23
        }
      ]
    },
    {
      "cell_type": "code",
      "source": [
        "x_train /= 255\n",
        "x_test /= 255"
      ],
      "metadata": {
        "id": "2i-KvULzIAtg"
      },
      "execution_count": 24,
      "outputs": []
    },
    {
      "cell_type": "code",
      "source": [
        "x_train[1]"
      ],
      "metadata": {
        "colab": {
          "base_uri": "https://localhost:8080/"
        },
        "id": "7lR9nlLcIJmA",
        "outputId": "29b76818-1016-4b9a-bc73-9ad02d08c36a"
      },
      "execution_count": 25,
      "outputs": [
        {
          "output_type": "execute_result",
          "data": {
            "text/plain": [
              "array([0.        , 0.        , 0.        , 0.        , 0.        ,\n",
              "       0.        , 0.        , 0.        , 0.        , 0.        ,\n",
              "       0.        , 0.        , 0.        , 0.        , 0.        ,\n",
              "       0.        , 0.        , 0.        , 0.        , 0.        ,\n",
              "       0.        , 0.        , 0.        , 0.        , 0.        ,\n",
              "       0.        , 0.        , 0.        , 0.        , 0.        ,\n",
              "       0.        , 0.        , 0.        , 0.        , 0.        ,\n",
              "       0.        , 0.        , 0.        , 0.        , 0.        ,\n",
              "       0.        , 0.        , 0.        , 0.        , 0.        ,\n",
              "       0.        , 0.        , 0.        , 0.        , 0.        ,\n",
              "       0.        , 0.        , 0.        , 0.        , 0.        ,\n",
              "       0.        , 0.        , 0.        , 0.        , 0.        ,\n",
              "       0.        , 0.        , 0.        , 0.        , 0.        ,\n",
              "       0.        , 0.        , 0.        , 0.        , 0.        ,\n",
              "       0.        , 0.        , 0.        , 0.        , 0.        ,\n",
              "       0.        , 0.        , 0.        , 0.        , 0.        ,\n",
              "       0.        , 0.        , 0.        , 0.        , 0.        ,\n",
              "       0.        , 0.        , 0.        , 0.        , 0.        ,\n",
              "       0.        , 0.        , 0.        , 0.        , 0.        ,\n",
              "       0.        , 0.        , 0.        , 0.        , 0.        ,\n",
              "       0.        , 0.        , 0.        , 0.        , 0.        ,\n",
              "       0.        , 0.        , 0.        , 0.        , 0.        ,\n",
              "       0.        , 0.        , 0.        , 0.        , 0.        ,\n",
              "       0.        , 0.        , 0.        , 0.        , 0.        ,\n",
              "       0.        , 0.        , 0.        , 0.        , 0.        ,\n",
              "       0.        , 0.        , 0.2       , 0.62352943, 0.99215686,\n",
              "       0.62352943, 0.19607843, 0.        , 0.        , 0.        ,\n",
              "       0.        , 0.        , 0.        , 0.        , 0.        ,\n",
              "       0.        , 0.        , 0.        , 0.        , 0.        ,\n",
              "       0.        , 0.        , 0.        , 0.        , 0.        ,\n",
              "       0.        , 0.        , 0.        , 0.        , 0.1882353 ,\n",
              "       0.93333334, 0.9882353 , 0.9882353 , 0.9882353 , 0.92941177,\n",
              "       0.        , 0.        , 0.        , 0.        , 0.        ,\n",
              "       0.        , 0.        , 0.        , 0.        , 0.        ,\n",
              "       0.        , 0.        , 0.        , 0.        , 0.        ,\n",
              "       0.        , 0.        , 0.        , 0.        , 0.        ,\n",
              "       0.        , 0.21176471, 0.8901961 , 0.99215686, 0.9882353 ,\n",
              "       0.9372549 , 0.9137255 , 0.9882353 , 0.22352941, 0.02352941,\n",
              "       0.        , 0.        , 0.        , 0.        , 0.        ,\n",
              "       0.        , 0.        , 0.        , 0.        , 0.        ,\n",
              "       0.        , 0.        , 0.        , 0.        , 0.        ,\n",
              "       0.        , 0.        , 0.03921569, 0.23529412, 0.8784314 ,\n",
              "       0.9882353 , 0.99215686, 0.9882353 , 0.7921569 , 0.32941177,\n",
              "       0.9882353 , 0.99215686, 0.47843137, 0.        , 0.        ,\n",
              "       0.        , 0.        , 0.        , 0.        , 0.        ,\n",
              "       0.        , 0.        , 0.        , 0.        , 0.        ,\n",
              "       0.        , 0.        , 0.        , 0.        , 0.        ,\n",
              "       0.6392157 , 0.9882353 , 0.9882353 , 0.9882353 , 0.99215686,\n",
              "       0.9882353 , 0.9882353 , 0.3764706 , 0.7411765 , 0.99215686,\n",
              "       0.654902  , 0.        , 0.        , 0.        , 0.        ,\n",
              "       0.        , 0.        , 0.        , 0.        , 0.        ,\n",
              "       0.        , 0.        , 0.        , 0.        , 0.        ,\n",
              "       0.        , 0.        , 0.2       , 0.93333334, 0.99215686,\n",
              "       0.99215686, 0.74509805, 0.44705883, 0.99215686, 0.89411765,\n",
              "       0.18431373, 0.30980393, 1.        , 0.65882355, 0.        ,\n",
              "       0.        , 0.        , 0.        , 0.        , 0.        ,\n",
              "       0.        , 0.        , 0.        , 0.        , 0.        ,\n",
              "       0.        , 0.        , 0.        , 0.        , 0.1882353 ,\n",
              "       0.93333334, 0.9882353 , 0.9882353 , 0.7019608 , 0.04705882,\n",
              "       0.29411766, 0.4745098 , 0.08235294, 0.        , 0.        ,\n",
              "       0.99215686, 0.9529412 , 0.19607843, 0.        , 0.        ,\n",
              "       0.        , 0.        , 0.        , 0.        , 0.        ,\n",
              "       0.        , 0.        , 0.        , 0.        , 0.        ,\n",
              "       0.        , 0.14901961, 0.64705884, 0.99215686, 0.9137255 ,\n",
              "       0.8156863 , 0.32941177, 0.        , 0.        , 0.        ,\n",
              "       0.        , 0.        , 0.        , 0.99215686, 0.9882353 ,\n",
              "       0.64705884, 0.        , 0.        , 0.        , 0.        ,\n",
              "       0.        , 0.        , 0.        , 0.        , 0.        ,\n",
              "       0.        , 0.        , 0.        , 0.02745098, 0.69803923,\n",
              "       0.9882353 , 0.9411765 , 0.2784314 , 0.07450981, 0.10980392,\n",
              "       0.        , 0.        , 0.        , 0.        , 0.        ,\n",
              "       0.        , 0.99215686, 0.9882353 , 0.7647059 , 0.        ,\n",
              "       0.        , 0.        , 0.        , 0.        , 0.        ,\n",
              "       0.        , 0.        , 0.        , 0.        , 0.        ,\n",
              "       0.        , 0.22352941, 0.9882353 , 0.9882353 , 0.24705882,\n",
              "       0.        , 0.        , 0.        , 0.        , 0.        ,\n",
              "       0.        , 0.        , 0.        , 0.        , 0.99215686,\n",
              "       0.9882353 , 0.7647059 , 0.        , 0.        , 0.        ,\n",
              "       0.        , 0.        , 0.        , 0.        , 0.        ,\n",
              "       0.        , 0.        , 0.        , 0.        , 0.7764706 ,\n",
              "       0.99215686, 0.74509805, 0.        , 0.        , 0.        ,\n",
              "       0.        , 0.        , 0.        , 0.        , 0.        ,\n",
              "       0.        , 0.        , 1.        , 0.99215686, 0.76862746,\n",
              "       0.        , 0.        , 0.        , 0.        , 0.        ,\n",
              "       0.        , 0.        , 0.        , 0.        , 0.        ,\n",
              "       0.        , 0.29803923, 0.9647059 , 0.9882353 , 0.4392157 ,\n",
              "       0.        , 0.        , 0.        , 0.        , 0.        ,\n",
              "       0.        , 0.        , 0.        , 0.        , 0.        ,\n",
              "       0.99215686, 0.9882353 , 0.5803922 , 0.        , 0.        ,\n",
              "       0.        , 0.        , 0.        , 0.        , 0.        ,\n",
              "       0.        , 0.        , 0.        , 0.        , 0.33333334,\n",
              "       0.9882353 , 0.9019608 , 0.09803922, 0.        , 0.        ,\n",
              "       0.        , 0.        , 0.        , 0.        , 0.        ,\n",
              "       0.        , 0.02745098, 0.5294118 , 0.99215686, 0.7294118 ,\n",
              "       0.04705882, 0.        , 0.        , 0.        , 0.        ,\n",
              "       0.        , 0.        , 0.        , 0.        , 0.        ,\n",
              "       0.        , 0.        , 0.33333334, 0.9882353 , 0.8745098 ,\n",
              "       0.        , 0.        , 0.        , 0.        , 0.        ,\n",
              "       0.        , 0.        , 0.        , 0.02745098, 0.5137255 ,\n",
              "       0.9882353 , 0.88235295, 0.2784314 , 0.        , 0.        ,\n",
              "       0.        , 0.        , 0.        , 0.        , 0.        ,\n",
              "       0.        , 0.        , 0.        , 0.        , 0.        ,\n",
              "       0.33333334, 0.9882353 , 0.5686275 , 0.        , 0.        ,\n",
              "       0.        , 0.        , 0.        , 0.        , 0.        ,\n",
              "       0.1882353 , 0.64705884, 0.9882353 , 0.6784314 , 0.        ,\n",
              "       0.        , 0.        , 0.        , 0.        , 0.        ,\n",
              "       0.        , 0.        , 0.        , 0.        , 0.        ,\n",
              "       0.        , 0.        , 0.        , 0.3372549 , 0.99215686,\n",
              "       0.88235295, 0.        , 0.        , 0.        , 0.        ,\n",
              "       0.        , 0.        , 0.44705883, 0.93333334, 0.99215686,\n",
              "       0.63529414, 0.        , 0.        , 0.        , 0.        ,\n",
              "       0.        , 0.        , 0.        , 0.        , 0.        ,\n",
              "       0.        , 0.        , 0.        , 0.        , 0.        ,\n",
              "       0.        , 0.33333334, 0.9882353 , 0.9764706 , 0.57254905,\n",
              "       0.1882353 , 0.11372549, 0.33333334, 0.69803923, 0.88235295,\n",
              "       0.99215686, 0.8745098 , 0.654902  , 0.21960784, 0.        ,\n",
              "       0.        , 0.        , 0.        , 0.        , 0.        ,\n",
              "       0.        , 0.        , 0.        , 0.        , 0.        ,\n",
              "       0.        , 0.        , 0.        , 0.        , 0.33333334,\n",
              "       0.9882353 , 0.9882353 , 0.9882353 , 0.8980392 , 0.84313726,\n",
              "       0.9882353 , 0.9882353 , 0.9882353 , 0.76862746, 0.50980395,\n",
              "       0.        , 0.        , 0.        , 0.        , 0.        ,\n",
              "       0.        , 0.        , 0.        , 0.        , 0.        ,\n",
              "       0.        , 0.        , 0.        , 0.        , 0.        ,\n",
              "       0.        , 0.        , 0.10980392, 0.78039217, 0.9882353 ,\n",
              "       0.9882353 , 0.99215686, 0.9882353 , 0.9882353 , 0.9137255 ,\n",
              "       0.5686275 , 0.        , 0.        , 0.        , 0.        ,\n",
              "       0.        , 0.        , 0.        , 0.        , 0.        ,\n",
              "       0.        , 0.        , 0.        , 0.        , 0.        ,\n",
              "       0.        , 0.        , 0.        , 0.        , 0.        ,\n",
              "       0.        , 0.09803922, 0.5019608 , 0.9882353 , 0.99215686,\n",
              "       0.9882353 , 0.5529412 , 0.14509805, 0.        , 0.        ,\n",
              "       0.        , 0.        , 0.        , 0.        , 0.        ,\n",
              "       0.        , 0.        , 0.        , 0.        , 0.        ,\n",
              "       0.        , 0.        , 0.        , 0.        , 0.        ,\n",
              "       0.        , 0.        , 0.        , 0.        , 0.        ,\n",
              "       0.        , 0.        , 0.        , 0.        , 0.        ,\n",
              "       0.        , 0.        , 0.        , 0.        , 0.        ,\n",
              "       0.        , 0.        , 0.        , 0.        , 0.        ,\n",
              "       0.        , 0.        , 0.        , 0.        , 0.        ,\n",
              "       0.        , 0.        , 0.        , 0.        , 0.        ,\n",
              "       0.        , 0.        , 0.        , 0.        , 0.        ,\n",
              "       0.        , 0.        , 0.        , 0.        , 0.        ,\n",
              "       0.        , 0.        , 0.        , 0.        , 0.        ,\n",
              "       0.        , 0.        , 0.        , 0.        , 0.        ,\n",
              "       0.        , 0.        , 0.        , 0.        , 0.        ,\n",
              "       0.        , 0.        , 0.        , 0.        , 0.        ,\n",
              "       0.        , 0.        , 0.        , 0.        , 0.        ,\n",
              "       0.        , 0.        , 0.        , 0.        , 0.        ,\n",
              "       0.        , 0.        , 0.        , 0.        , 0.        ,\n",
              "       0.        , 0.        , 0.        , 0.        , 0.        ,\n",
              "       0.        , 0.        , 0.        , 0.        , 0.        ,\n",
              "       0.        , 0.        , 0.        , 0.        , 0.        ,\n",
              "       0.        , 0.        , 0.        , 0.        , 0.        ,\n",
              "       0.        , 0.        , 0.        , 0.        , 0.        ,\n",
              "       0.        , 0.        , 0.        , 0.        , 0.        ,\n",
              "       0.        , 0.        , 0.        , 0.        ], dtype=float32)"
            ]
          },
          "metadata": {},
          "execution_count": 25
        }
      ]
    },
    {
      "cell_type": "code",
      "source": [],
      "metadata": {
        "id": "qvEmAi9WILJe"
      },
      "execution_count": null,
      "outputs": []
    },
    {
      "cell_type": "code",
      "source": [
        "print(x_train.shape[0],' train samples')"
      ],
      "metadata": {
        "colab": {
          "base_uri": "https://localhost:8080/"
        },
        "id": "c5FM1SNuIOYH",
        "outputId": "5a928e73-dfe2-4d40-997e-dc2d8982cd6b"
      },
      "execution_count": 28,
      "outputs": [
        {
          "output_type": "stream",
          "name": "stdout",
          "text": [
            "60000  train samples\n"
          ]
        }
      ]
    },
    {
      "cell_type": "code",
      "source": [
        "print(x_test.shape[0],' test samples')"
      ],
      "metadata": {
        "colab": {
          "base_uri": "https://localhost:8080/"
        },
        "id": "NrpdKd_WIWiO",
        "outputId": "c2304cfc-1e0c-4942-b9a6-ec3424f7b269"
      },
      "execution_count": 29,
      "outputs": [
        {
          "output_type": "stream",
          "name": "stdout",
          "text": [
            "10000  test samples\n"
          ]
        }
      ]
    },
    {
      "cell_type": "code",
      "source": [],
      "metadata": {
        "id": "HNBSkcloIip-"
      },
      "execution_count": 45,
      "outputs": []
    },
    {
      "cell_type": "code",
      "source": [
        "# x = [1,2,3,4,5,9,7]\n",
        "# print(type(x))\n",
        "# np_utils.to_categorical(x)\n"
      ],
      "metadata": {
        "id": "Sju36o3BJY1-"
      },
      "execution_count": 45,
      "outputs": []
    },
    {
      "cell_type": "code",
      "source": [
        "# conversion of vector to binary class matrics\n",
        "y_train = np_utils.to_categorical(y_train,nb_classes)\n",
        "y_test = np_utils.to_categorical(y_test,nb_classes)"
      ],
      "metadata": {
        "id": "Tt-zMnxKJbT0"
      },
      "execution_count": 46,
      "outputs": []
    },
    {
      "cell_type": "code",
      "source": [
        "model = build_logistic_model(input_dim,nb_classes)"
      ],
      "metadata": {
        "id": "5mHiQSFbJijU"
      },
      "execution_count": 49,
      "outputs": []
    },
    {
      "cell_type": "code",
      "source": [
        "model.summary()"
      ],
      "metadata": {
        "colab": {
          "base_uri": "https://localhost:8080/"
        },
        "id": "O8idaOEfKaiD",
        "outputId": "0b84d331-f0aa-45cb-c9f4-93ee963d3dba"
      },
      "execution_count": 50,
      "outputs": [
        {
          "output_type": "stream",
          "name": "stdout",
          "text": [
            "Model: \"sequential_1\"\n",
            "_________________________________________________________________\n",
            " Layer (type)                Output Shape              Param #   \n",
            "=================================================================\n",
            " dense (Dense)               (None, 10)                7850      \n",
            "                                                                 \n",
            "=================================================================\n",
            "Total params: 7,850\n",
            "Trainable params: 7,850\n",
            "Non-trainable params: 0\n",
            "_________________________________________________________________\n"
          ]
        }
      ]
    },
    {
      "cell_type": "code",
      "source": [
        "model.compile(optimizer='sgd',loss='categorical_crossentropy',metrics=['accuracy'])"
      ],
      "metadata": {
        "id": "fBhTXyOtKoJq"
      },
      "execution_count": 51,
      "outputs": []
    },
    {
      "cell_type": "code",
      "source": [
        "history = model.fit(x_train,y_train,batch_size=batch_size,\n",
        "                    epochs=50,verbose=1,\n",
        "                    validation_data=(x_test,y_test))"
      ],
      "metadata": {
        "colab": {
          "base_uri": "https://localhost:8080/"
        },
        "id": "p-AA5F1wKzaL",
        "outputId": "0520628b-5486-4436-c5bb-367a00eb2862"
      },
      "execution_count": 54,
      "outputs": [
        {
          "output_type": "stream",
          "name": "stdout",
          "text": [
            "Epoch 1/50\n",
            "469/469 [==============================] - 3s 6ms/step - loss: 1.2936 - accuracy: 0.6896 - val_loss: 0.8205 - val_accuracy: 0.8291\n",
            "Epoch 2/50\n",
            "469/469 [==============================] - 2s 3ms/step - loss: 0.7234 - accuracy: 0.8371 - val_loss: 0.6130 - val_accuracy: 0.8622\n",
            "Epoch 3/50\n",
            "469/469 [==============================] - 1s 3ms/step - loss: 0.5924 - accuracy: 0.8567 - val_loss: 0.5297 - val_accuracy: 0.8737\n",
            "Epoch 4/50\n",
            "469/469 [==============================] - 1s 3ms/step - loss: 0.5295 - accuracy: 0.8670 - val_loss: 0.4833 - val_accuracy: 0.8813\n",
            "Epoch 5/50\n",
            "469/469 [==============================] - 1s 3ms/step - loss: 0.4914 - accuracy: 0.8731 - val_loss: 0.4526 - val_accuracy: 0.8871\n",
            "Epoch 6/50\n",
            "469/469 [==============================] - 2s 4ms/step - loss: 0.4651 - accuracy: 0.8787 - val_loss: 0.4309 - val_accuracy: 0.8906\n",
            "Epoch 7/50\n",
            "469/469 [==============================] - 2s 3ms/step - loss: 0.4456 - accuracy: 0.8819 - val_loss: 0.4146 - val_accuracy: 0.8931\n",
            "Epoch 8/50\n",
            "469/469 [==============================] - 2s 5ms/step - loss: 0.4304 - accuracy: 0.8852 - val_loss: 0.4014 - val_accuracy: 0.8958\n",
            "Epoch 9/50\n",
            "469/469 [==============================] - 2s 4ms/step - loss: 0.4181 - accuracy: 0.8879 - val_loss: 0.3909 - val_accuracy: 0.8976\n",
            "Epoch 10/50\n",
            "469/469 [==============================] - 1s 3ms/step - loss: 0.4079 - accuracy: 0.8902 - val_loss: 0.3822 - val_accuracy: 0.8980\n",
            "Epoch 11/50\n",
            "469/469 [==============================] - 1s 3ms/step - loss: 0.3994 - accuracy: 0.8917 - val_loss: 0.3746 - val_accuracy: 0.9004\n",
            "Epoch 12/50\n",
            "469/469 [==============================] - 2s 3ms/step - loss: 0.3919 - accuracy: 0.8938 - val_loss: 0.3683 - val_accuracy: 0.9023\n",
            "Epoch 13/50\n",
            "469/469 [==============================] - 1s 3ms/step - loss: 0.3855 - accuracy: 0.8952 - val_loss: 0.3622 - val_accuracy: 0.9036\n",
            "Epoch 14/50\n",
            "469/469 [==============================] - 2s 4ms/step - loss: 0.3797 - accuracy: 0.8963 - val_loss: 0.3572 - val_accuracy: 0.9043\n",
            "Epoch 15/50\n",
            "469/469 [==============================] - 3s 7ms/step - loss: 0.3747 - accuracy: 0.8973 - val_loss: 0.3528 - val_accuracy: 0.9063\n",
            "Epoch 16/50\n",
            "469/469 [==============================] - 3s 7ms/step - loss: 0.3700 - accuracy: 0.8985 - val_loss: 0.3491 - val_accuracy: 0.9078\n",
            "Epoch 17/50\n",
            "469/469 [==============================] - 3s 7ms/step - loss: 0.3659 - accuracy: 0.8994 - val_loss: 0.3451 - val_accuracy: 0.9076\n",
            "Epoch 18/50\n",
            "469/469 [==============================] - 3s 6ms/step - loss: 0.3621 - accuracy: 0.9001 - val_loss: 0.3417 - val_accuracy: 0.9081\n",
            "Epoch 19/50\n",
            "469/469 [==============================] - 5s 11ms/step - loss: 0.3586 - accuracy: 0.9007 - val_loss: 0.3388 - val_accuracy: 0.9089\n",
            "Epoch 20/50\n",
            "469/469 [==============================] - 3s 7ms/step - loss: 0.3554 - accuracy: 0.9017 - val_loss: 0.3360 - val_accuracy: 0.9095\n",
            "Epoch 21/50\n",
            "469/469 [==============================] - 2s 4ms/step - loss: 0.3524 - accuracy: 0.9023 - val_loss: 0.3335 - val_accuracy: 0.9099\n",
            "Epoch 22/50\n",
            "469/469 [==============================] - 2s 3ms/step - loss: 0.3497 - accuracy: 0.9027 - val_loss: 0.3315 - val_accuracy: 0.9108\n",
            "Epoch 23/50\n",
            "469/469 [==============================] - 1s 3ms/step - loss: 0.3471 - accuracy: 0.9035 - val_loss: 0.3288 - val_accuracy: 0.9105\n",
            "Epoch 24/50\n",
            "469/469 [==============================] - 1s 3ms/step - loss: 0.3447 - accuracy: 0.9042 - val_loss: 0.3269 - val_accuracy: 0.9111\n",
            "Epoch 25/50\n",
            "469/469 [==============================] - 2s 5ms/step - loss: 0.3424 - accuracy: 0.9048 - val_loss: 0.3248 - val_accuracy: 0.9119\n",
            "Epoch 26/50\n",
            "469/469 [==============================] - 2s 4ms/step - loss: 0.3403 - accuracy: 0.9053 - val_loss: 0.3231 - val_accuracy: 0.9121\n",
            "Epoch 27/50\n",
            "469/469 [==============================] - 2s 3ms/step - loss: 0.3383 - accuracy: 0.9057 - val_loss: 0.3216 - val_accuracy: 0.9119\n",
            "Epoch 28/50\n",
            "469/469 [==============================] - 2s 3ms/step - loss: 0.3364 - accuracy: 0.9068 - val_loss: 0.3198 - val_accuracy: 0.9129\n",
            "Epoch 29/50\n",
            "469/469 [==============================] - 2s 3ms/step - loss: 0.3346 - accuracy: 0.9067 - val_loss: 0.3184 - val_accuracy: 0.9129\n",
            "Epoch 30/50\n",
            "469/469 [==============================] - 2s 3ms/step - loss: 0.3329 - accuracy: 0.9073 - val_loss: 0.3169 - val_accuracy: 0.9135\n",
            "Epoch 31/50\n",
            "469/469 [==============================] - 1s 3ms/step - loss: 0.3313 - accuracy: 0.9080 - val_loss: 0.3157 - val_accuracy: 0.9137\n",
            "Epoch 32/50\n",
            "469/469 [==============================] - 2s 4ms/step - loss: 0.3297 - accuracy: 0.9083 - val_loss: 0.3147 - val_accuracy: 0.9138\n",
            "Epoch 33/50\n",
            "469/469 [==============================] - 3s 5ms/step - loss: 0.3283 - accuracy: 0.9091 - val_loss: 0.3132 - val_accuracy: 0.9140\n",
            "Epoch 34/50\n",
            "469/469 [==============================] - 2s 3ms/step - loss: 0.3269 - accuracy: 0.9092 - val_loss: 0.3120 - val_accuracy: 0.9143\n",
            "Epoch 35/50\n",
            "469/469 [==============================] - 1s 3ms/step - loss: 0.3255 - accuracy: 0.9097 - val_loss: 0.3107 - val_accuracy: 0.9146\n",
            "Epoch 36/50\n",
            "469/469 [==============================] - 2s 3ms/step - loss: 0.3242 - accuracy: 0.9098 - val_loss: 0.3098 - val_accuracy: 0.9143\n",
            "Epoch 37/50\n",
            "469/469 [==============================] - 1s 3ms/step - loss: 0.3230 - accuracy: 0.9102 - val_loss: 0.3087 - val_accuracy: 0.9151\n",
            "Epoch 38/50\n",
            "469/469 [==============================] - 2s 4ms/step - loss: 0.3218 - accuracy: 0.9108 - val_loss: 0.3078 - val_accuracy: 0.9156\n",
            "Epoch 39/50\n",
            "469/469 [==============================] - 1s 3ms/step - loss: 0.3207 - accuracy: 0.9109 - val_loss: 0.3069 - val_accuracy: 0.9151\n",
            "Epoch 40/50\n",
            "469/469 [==============================] - 2s 5ms/step - loss: 0.3196 - accuracy: 0.9114 - val_loss: 0.3060 - val_accuracy: 0.9156\n",
            "Epoch 41/50\n",
            "469/469 [==============================] - 2s 4ms/step - loss: 0.3185 - accuracy: 0.9115 - val_loss: 0.3053 - val_accuracy: 0.9155\n",
            "Epoch 42/50\n",
            "469/469 [==============================] - 1s 3ms/step - loss: 0.3175 - accuracy: 0.9119 - val_loss: 0.3043 - val_accuracy: 0.9159\n",
            "Epoch 43/50\n",
            "469/469 [==============================] - 2s 3ms/step - loss: 0.3165 - accuracy: 0.9123 - val_loss: 0.3036 - val_accuracy: 0.9162\n",
            "Epoch 44/50\n",
            "469/469 [==============================] - 2s 3ms/step - loss: 0.3155 - accuracy: 0.9124 - val_loss: 0.3032 - val_accuracy: 0.9162\n",
            "Epoch 45/50\n",
            "469/469 [==============================] - 2s 4ms/step - loss: 0.3146 - accuracy: 0.9127 - val_loss: 0.3020 - val_accuracy: 0.9162\n",
            "Epoch 46/50\n",
            "469/469 [==============================] - 2s 3ms/step - loss: 0.3137 - accuracy: 0.9126 - val_loss: 0.3012 - val_accuracy: 0.9164\n",
            "Epoch 47/50\n",
            "469/469 [==============================] - 2s 4ms/step - loss: 0.3129 - accuracy: 0.9133 - val_loss: 0.3005 - val_accuracy: 0.9168\n",
            "Epoch 48/50\n",
            "469/469 [==============================] - 2s 5ms/step - loss: 0.3120 - accuracy: 0.9136 - val_loss: 0.3001 - val_accuracy: 0.9171\n",
            "Epoch 49/50\n",
            "469/469 [==============================] - 1s 3ms/step - loss: 0.3112 - accuracy: 0.9137 - val_loss: 0.2993 - val_accuracy: 0.9167\n",
            "Epoch 50/50\n",
            "469/469 [==============================] - 1s 3ms/step - loss: 0.3104 - accuracy: 0.9141 - val_loss: 0.2986 - val_accuracy: 0.9173\n"
          ]
        }
      ]
    },
    {
      "cell_type": "code",
      "source": [
        "score = model.evaluate(x_test,y_test,verbose=0)"
      ],
      "metadata": {
        "id": "DDRgmOOwK9fx"
      },
      "execution_count": 55,
      "outputs": []
    },
    {
      "cell_type": "code",
      "source": [
        "print('Test Loss = ',score[0])\n",
        "print('Train Loss = ',score[1])"
      ],
      "metadata": {
        "colab": {
          "base_uri": "https://localhost:8080/"
        },
        "id": "dVCM4vkPLNi6",
        "outputId": "c3e1e935-7890-480f-af9c-a89526ac545b"
      },
      "execution_count": 56,
      "outputs": [
        {
          "output_type": "stream",
          "name": "stdout",
          "text": [
            "Test Loss =  0.29859060049057007\n",
            "Train Loss =  0.9172999858856201\n"
          ]
        }
      ]
    },
    {
      "cell_type": "code",
      "source": [
        "hist = history.history"
      ],
      "metadata": {
        "id": "LGVu4x7yLm7Q"
      },
      "execution_count": 57,
      "outputs": []
    },
    {
      "cell_type": "code",
      "source": [
        "import matplotlib.pyplot as plt"
      ],
      "metadata": {
        "id": "HcnMY2V3LrQo"
      },
      "execution_count": 58,
      "outputs": []
    },
    {
      "cell_type": "code",
      "source": [
        "plt.figure()\n",
        "plt.xlabel('epochs')\n",
        "plt.ylabel('Scores')\n",
        "for m in ['accuracy','val_accuracy']:\n",
        "  x = hist[m]\n",
        "  plt.plot(x,label=m)\n",
        "plt.legend()"
      ],
      "metadata": {
        "colab": {
          "base_uri": "https://localhost:8080/",
          "height": 296
        },
        "id": "37Z98glsLuCJ",
        "outputId": "3453d09a-8cab-4c36-f99f-76c5c57e67a1"
      },
      "execution_count": 59,
      "outputs": [
        {
          "output_type": "execute_result",
          "data": {
            "text/plain": [
              "<matplotlib.legend.Legend at 0x7f6ab41f9be0>"
            ]
          },
          "metadata": {},
          "execution_count": 59
        },
        {
          "output_type": "display_data",
          "data": {
            "text/plain": [
              "<Figure size 432x288 with 1 Axes>"
            ],
            "image/png": "[encoded data removed]"
          },
          "metadata": {
            "needs_background": "light"
          }
        }
      ]
    },
    {
      "cell_type": "code",
      "source": [],
      "metadata": {
        "id": "3jYdCT7nMAXY"
      },
      "execution_count": null,
      "outputs": []
    }
  ]
}