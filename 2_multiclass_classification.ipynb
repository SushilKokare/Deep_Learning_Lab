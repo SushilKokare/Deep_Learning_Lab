{
  "nbformat": 4,
  "nbformat_minor": 0,
  "metadata": {
    "colab": {
      "provenance": [],
      "authorship_tag": "ABX9TyOHB/K2PpvnPgvQ5GK8jsjC",
      "include_colab_link": true
    },
    "kernelspec": {
      "name": "python3",
      "display_name": "Python 3"
    },
    "language_info": {
      "name": "python"
    }
  },
  "cells": [
    {
      "cell_type": "markdown",
      "metadata": {
        "id": "view-in-github",
        "colab_type": "text"
      },
      "source": [
        "<a href=\"https://colab.research.google.com/github/SushilKokare/Deep_Learning_Lab/blob/main/2_multiclass_classification.ipynb\" target=\"_parent\"><img src=\"https://colab.research.google.com/assets/colab-badge.svg\" alt=\"Open In Colab\"/></a>"
      ]
    },
    {
      "cell_type": "code",
      "execution_count": 16,
      "metadata": {
        "id": "7TMUAz-62XqE"
      },
      "outputs": [],
      "source": [
        "import pandas as pd\n",
        "import numpy as np\n",
        "import matplotlib.pyplot as plt\n",
        "from tensorflow.keras import layers\n",
        "import tensorflow as tf\n",
        "from tensorflow.keras.datasets import mnist\n",
        "from tensorflow.keras.layers import Flatten,Dense,Dropout"
      ]
    },
    {
      "cell_type": "code",
      "source": [
        "(x_train,y_train),(x_test,y_test) = mnist.load_data()"
      ],
      "metadata": {
        "colab": {
          "base_uri": "https://localhost:8080/"
        },
        "id": "qATF4x0p2rJ4",
        "outputId": "ff9e17e5-86b7-4a4c-c309-186017b69ecb"
      },
      "execution_count": 4,
      "outputs": [
        {
          "output_type": "stream",
          "name": "stdout",
          "text": [
            "Downloading data from https://storage.googleapis.com/tensorflow/tf-keras-datasets/mnist.npz\n",
            "11490434/11490434 [==============================] - 0s 0us/step\n"
          ]
        }
      ]
    },
    {
      "cell_type": "code",
      "source": [
        "print(x_train.shape)\n",
        "print(y_train.shape)\n",
        "print(x_test.shape)\n",
        "print(y_test.shape)"
      ],
      "metadata": {
        "colab": {
          "base_uri": "https://localhost:8080/"
        },
        "id": "SVZ-_0sW3W_G",
        "outputId": "9254bb95-06c7-4076-c281-b2ebb8f592ab"
      },
      "execution_count": 12,
      "outputs": [
        {
          "output_type": "stream",
          "name": "stdout",
          "text": [
            "(60000, 28, 28)\n",
            "(60000,)\n",
            "(10000, 28, 28)\n",
            "(10000,)\n"
          ]
        }
      ]
    },
    {
      "cell_type": "code",
      "source": [
        "plt.imshow(x_train[100])"
      ],
      "metadata": {
        "colab": {
          "base_uri": "https://localhost:8080/",
          "height": 282
        },
        "id": "nnyECUNn3B57",
        "outputId": "1bb57020-c877-4e9c-87e7-7978605b7c5a"
      },
      "execution_count": 5,
      "outputs": [
        {
          "output_type": "execute_result",
          "data": {
            "text/plain": [
              "<matplotlib.image.AxesImage at 0x7f5de9fd53a0>"
            ]
          },
          "metadata": {},
          "execution_count": 5
        },
        {
          "output_type": "display_data",
          "data": {
            "text/plain": [
              "<Figure size 432x288 with 1 Axes>"
            ],
            "image/png": "[encoded data removed]"
          },
          "metadata": {
            "needs_background": "light"
          }
        }
      ]
    },
    {
      "cell_type": "code",
      "source": [
        "x_train = x_train/255.0\n",
        "x_test = x_test/255.0"
      ],
      "metadata": {
        "id": "mdqX4rw43Hra"
      },
      "execution_count": 8,
      "outputs": []
    },
    {
      "cell_type": "code",
      "source": [
        "def plot(epochs,hist,list_of_metrics):\n",
        "  plt.figure()\n",
        "  plt.xlabel('Number of epochs')\n",
        "  plt.ylabel('The value')\n",
        "  for m in list_of_metrics:\n",
        "    x=hist[m]\n",
        "    plt.plot(epochs[1:],x[1:],label=m)\n",
        "  plt.legend()"
      ],
      "metadata": {
        "id": "0vIpLCVQ3OK_"
      },
      "execution_count": 14,
      "outputs": []
    },
    {
      "cell_type": "code",
      "source": [
        "def create_model(lr):\n",
        "  model = tf.keras.models.Sequential([\n",
        "    Flatten(input_shape=(28,28)),\n",
        "    Dense(32,activation='relu'),\n",
        "    Dropout(rate=0.1),\n",
        "    Dense(32,activation='relu'),\n",
        "    Dropout(rate=0.01),\n",
        "    Dense(10,activation='softmax')\n",
        "    ])\n",
        "  model.compile(optimizer = tf.keras.optimizers.legacy.Adam(lr=lr),\n",
        "                loss='sparse_categorical_crossentropy',\n",
        "                metrics=['accuracy'])\n",
        "  return model"
      ],
      "metadata": {
        "id": "vMSn3eWV3vZX"
      },
      "execution_count": 46,
      "outputs": []
    },
    {
      "cell_type": "code",
      "source": [
        "def train_model(model,train_features,train_label,epochs,batch=None,val_split=0.1):\n",
        "  history = model.fit(x=train_features,y=train_label,batch_size=batch,epochs=epochs,\n",
        "                      shuffle=True,validation_split=val_split)\n",
        "  epochs = history.epoch\n",
        "  hist = pd.DataFrame(history.history)\n",
        "  return epochs,hist"
      ],
      "metadata": {
        "id": "vAXSFNFN4WY0"
      },
      "execution_count": 53,
      "outputs": []
    },
    {
      "cell_type": "code",
      "source": [
        "lr=0.003\n",
        "epochs=20\n",
        "batch=4000\n",
        "val_split=0.2 "
      ],
      "metadata": {
        "id": "8UCAueg7-oek"
      },
      "execution_count": 48,
      "outputs": []
    },
    {
      "cell_type": "code",
      "source": [
        "my_model = create_model(lr)"
      ],
      "metadata": {
        "colab": {
          "base_uri": "https://localhost:8080/"
        },
        "id": "XJR9RqVk-yoI",
        "outputId": "3ee72ba9-02fe-4440-c652-3b6a29d8a106"
      },
      "execution_count": 49,
      "outputs": [
        {
          "output_type": "stream",
          "name": "stderr",
          "text": [
            "/usr/local/lib/python3.9/dist-packages/keras/optimizers/optimizer_v2/adam.py:117: UserWarning: The `lr` argument is deprecated, use `learning_rate` instead.\n",
            "  super().__init__(name, **kwargs)\n"
          ]
        }
      ]
    },
    {
      "cell_type": "code",
      "source": [
        "my_model.summary()"
      ],
      "metadata": {
        "colab": {
          "base_uri": "https://localhost:8080/"
        },
        "id": "95FELJJr-3Hf",
        "outputId": "86aa63b7-95c7-43f7-8825-44e12653b027"
      },
      "execution_count": 50,
      "outputs": [
        {
          "output_type": "stream",
          "name": "stdout",
          "text": [
            "Model: \"sequential_2\"\n",
            "_________________________________________________________________\n",
            " Layer (type)                Output Shape              Param #   \n",
            "=================================================================\n",
            " flatten_4 (Flatten)         (None, 784)               0         \n",
            "                                                                 \n",
            " dense_10 (Dense)            (None, 32)                25120     \n",
            "                                                                 \n",
            " dropout_8 (Dropout)         (None, 32)                0         \n",
            "                                                                 \n",
            " dense_11 (Dense)            (None, 32)                1056      \n",
            "                                                                 \n",
            " dropout_9 (Dropout)         (None, 32)                0         \n",
            "                                                                 \n",
            " dense_12 (Dense)            (None, 10)                330       \n",
            "                                                                 \n",
            "=================================================================\n",
            "Total params: 26,506\n",
            "Trainable params: 26,506\n",
            "Non-trainable params: 0\n",
            "_________________________________________________________________\n"
          ]
        }
      ]
    },
    {
      "cell_type": "code",
      "source": [
        "# def train_model(model,train_features,train_label,epochs,batch=None,val_split=0.1):\n",
        "#   history = model.fit(x=train_features,y=train_label,batch_size=batch,epochs=epochs,\n",
        "#                       shuffle=True,validation_split=val_split)\n",
        "#   epochs = history.epochs\n",
        "#   hist = pd.DataFrame(history.history)\n",
        "#   return epochs,hist"
      ],
      "metadata": {
        "id": "6PHfZ29t_y2-"
      },
      "execution_count": 51,
      "outputs": []
    },
    {
      "cell_type": "code",
      "source": [
        "epochs,hist = train_model(model=my_model,\n",
        "                          train_features=x_train,\n",
        "                          train_label=y_train,\n",
        "                          epochs=epochs,\n",
        "                          batch=batch,\n",
        "                          val_split=val_split)"
      ],
      "metadata": {
        "colab": {
          "base_uri": "https://localhost:8080/"
        },
        "id": "gJodatD-_R8g",
        "outputId": "cd8e16bc-8cc7-472f-bd45-fe750c757f1c"
      },
      "execution_count": 54,
      "outputs": [
        {
          "output_type": "stream",
          "name": "stdout",
          "text": [
            "Epoch 1/20\n",
            "12/12 [==============================] - 0s 41ms/step - loss: 0.1899 - accuracy: 0.9419 - val_loss: 0.1564 - val_accuracy: 0.9523\n",
            "Epoch 2/20\n",
            "12/12 [==============================] - 0s 39ms/step - loss: 0.1847 - accuracy: 0.9431 - val_loss: 0.1542 - val_accuracy: 0.9540\n",
            "Epoch 3/20\n",
            "12/12 [==============================] - 0s 38ms/step - loss: 0.1809 - accuracy: 0.9448 - val_loss: 0.1499 - val_accuracy: 0.9556\n",
            "Epoch 4/20\n",
            "12/12 [==============================] - 0s 39ms/step - loss: 0.1786 - accuracy: 0.9453 - val_loss: 0.1490 - val_accuracy: 0.9559\n",
            "Epoch 5/20\n",
            "12/12 [==============================] - 0s 38ms/step - loss: 0.1714 - accuracy: 0.9471 - val_loss: 0.1466 - val_accuracy: 0.9557\n",
            "Epoch 6/20\n",
            "12/12 [==============================] - 0s 36ms/step - loss: 0.1701 - accuracy: 0.9476 - val_loss: 0.1444 - val_accuracy: 0.9567\n",
            "Epoch 7/20\n",
            "12/12 [==============================] - 0s 35ms/step - loss: 0.1681 - accuracy: 0.9477 - val_loss: 0.1429 - val_accuracy: 0.9572\n",
            "Epoch 8/20\n",
            "12/12 [==============================] - 0s 36ms/step - loss: 0.1641 - accuracy: 0.9496 - val_loss: 0.1423 - val_accuracy: 0.9571\n",
            "Epoch 9/20\n",
            "12/12 [==============================] - 0s 35ms/step - loss: 0.1595 - accuracy: 0.9504 - val_loss: 0.1395 - val_accuracy: 0.9578\n",
            "Epoch 10/20\n",
            "12/12 [==============================] - 0s 36ms/step - loss: 0.1598 - accuracy: 0.9503 - val_loss: 0.1381 - val_accuracy: 0.9583\n",
            "Epoch 11/20\n",
            "12/12 [==============================] - 0s 37ms/step - loss: 0.1566 - accuracy: 0.9509 - val_loss: 0.1384 - val_accuracy: 0.9587\n",
            "Epoch 12/20\n",
            "12/12 [==============================] - 0s 36ms/step - loss: 0.1541 - accuracy: 0.9524 - val_loss: 0.1366 - val_accuracy: 0.9596\n",
            "Epoch 13/20\n",
            "12/12 [==============================] - 0s 42ms/step - loss: 0.1516 - accuracy: 0.9526 - val_loss: 0.1347 - val_accuracy: 0.9588\n",
            "Epoch 14/20\n",
            "12/12 [==============================] - 1s 56ms/step - loss: 0.1475 - accuracy: 0.9544 - val_loss: 0.1348 - val_accuracy: 0.9589\n",
            "Epoch 15/20\n",
            "12/12 [==============================] - 1s 57ms/step - loss: 0.1461 - accuracy: 0.9547 - val_loss: 0.1343 - val_accuracy: 0.9603\n",
            "Epoch 16/20\n",
            "12/12 [==============================] - 1s 53ms/step - loss: 0.1429 - accuracy: 0.9552 - val_loss: 0.1331 - val_accuracy: 0.9597\n",
            "Epoch 17/20\n",
            "12/12 [==============================] - 1s 52ms/step - loss: 0.1401 - accuracy: 0.9561 - val_loss: 0.1335 - val_accuracy: 0.9596\n",
            "Epoch 18/20\n",
            "12/12 [==============================] - 0s 35ms/step - loss: 0.1373 - accuracy: 0.9568 - val_loss: 0.1319 - val_accuracy: 0.9609\n",
            "Epoch 19/20\n",
            "12/12 [==============================] - 0s 35ms/step - loss: 0.1381 - accuracy: 0.9563 - val_loss: 0.1338 - val_accuracy: 0.9599\n",
            "Epoch 20/20\n",
            "12/12 [==============================] - 0s 39ms/step - loss: 0.1368 - accuracy: 0.9559 - val_loss: 0.1304 - val_accuracy: 0.9606\n"
          ]
        }
      ]
    },
    {
      "cell_type": "code",
      "source": [
        "list_of_metrics = ['accuracy']"
      ],
      "metadata": {
        "id": "xRXYr0xN_gIs"
      },
      "execution_count": 55,
      "outputs": []
    },
    {
      "cell_type": "code",
      "source": [
        "plot(epochs,hist,list_of_metrics)"
      ],
      "metadata": {
        "colab": {
          "base_uri": "https://localhost:8080/",
          "height": 279
        },
        "id": "oxG_84uyCBsK",
        "outputId": "1d9e986e-a35a-4d91-d165-258eefe1fa09"
      },
      "execution_count": 56,
      "outputs": [
        {
          "output_type": "display_data",
          "data": {
            "text/plain": [
              "<Figure size 432x288 with 1 Axes>"
            ],
            "image/png": "[encoded data removed]"
          },
          "metadata": {
            "needs_background": "light"
          }
        }
      ]
    },
    {
      "cell_type": "code",
      "source": [
        "my_model.evaluate(x_test,y_test,batch_size=batch)"
      ],
      "metadata": {
        "colab": {
          "base_uri": "https://localhost:8080/"
        },
        "id": "LW0nMJTCCHmp",
        "outputId": "dbe07e1b-2288-4aa4-8821-dd587063a5c4"
      },
      "execution_count": 58,
      "outputs": [
        {
          "output_type": "stream",
          "name": "stdout",
          "text": [
            "3/3 [==============================] - 0s 9ms/step - loss: 0.1286 - accuracy: 0.9615\n"
          ]
        },
        {
          "output_type": "execute_result",
          "data": {
            "text/plain": [
              "[0.12859474122524261, 0.9614999890327454]"
            ]
          },
          "metadata": {},
          "execution_count": 58
        }
      ]
    },
    {
      "cell_type": "code",
      "source": [],
      "metadata": {
        "id": "9xQ4aKXzCQou"
      },
      "execution_count": null,
      "outputs": []
    }
  ]
}